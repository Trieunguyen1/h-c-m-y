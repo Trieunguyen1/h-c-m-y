{
  "nbformat": 4,
  "nbformat_minor": 0,
  "metadata": {
    "colab": {
      "name": "thuật toán regression.ipynb",
      "provenance": [],
      "collapsed_sections": [],
      "authorship_tag": "ABX9TyM7JVbVgeW+crpG+Uu0mVen",
      "include_colab_link": true
    },
    "kernelspec": {
      "name": "python3",
      "display_name": "Python 3"
    },
    "language_info": {
      "name": "python"
    }
  },
  "cells": [
    {
      "cell_type": "markdown",
      "metadata": {
        "id": "view-in-github",
        "colab_type": "text"
      },
      "source": [
        "<a href=\"https://colab.research.google.com/github/Trieunguyen1/h-c-m-y/blob/main/thu%E1%BA%ADt_to%C3%A1n_regression.ipynb\" target=\"_parent\"><img src=\"https://colab.research.google.com/assets/colab-badge.svg\" alt=\"Open In Colab\"/></a>"
      ]
    },
    {
      "cell_type": "code",
      "execution_count": null,
      "metadata": {
        "colab": {
          "base_uri": "https://localhost:8080/",
          "height": 112
        },
        "id": "BVU6BBf_W5U3",
        "outputId": "3c9d4962-5665-4aae-beb7-79aea3590433"
      },
      "outputs": [
        {
          "output_type": "execute_result",
          "data": {
            "text/plain": [
              "            số giờ học      điểm\n",
              "số giờ học    1.000000  0.992105\n",
              "điểm          0.992105  1.000000"
            ],
            "text/html": [
              "\n",
              "  <div id=\"df-efca4fbb-a953-4ca8-8261-1c1d01a04e56\">\n",
              "    <div class=\"colab-df-container\">\n",
              "      <div>\n",
              "<style scoped>\n",
              "    .dataframe tbody tr th:only-of-type {\n",
              "        vertical-align: middle;\n",
              "    }\n",
              "\n",
              "    .dataframe tbody tr th {\n",
              "        vertical-align: top;\n",
              "    }\n",
              "\n",
              "    .dataframe thead th {\n",
              "        text-align: right;\n",
              "    }\n",
              "</style>\n",
              "<table border=\"1\" class=\"dataframe\">\n",
              "  <thead>\n",
              "    <tr style=\"text-align: right;\">\n",
              "      <th></th>\n",
              "      <th>số giờ học</th>\n",
              "      <th>điểm</th>\n",
              "    </tr>\n",
              "  </thead>\n",
              "  <tbody>\n",
              "    <tr>\n",
              "      <th>số giờ học</th>\n",
              "      <td>1.000000</td>\n",
              "      <td>0.992105</td>\n",
              "    </tr>\n",
              "    <tr>\n",
              "      <th>điểm</th>\n",
              "      <td>0.992105</td>\n",
              "      <td>1.000000</td>\n",
              "    </tr>\n",
              "  </tbody>\n",
              "</table>\n",
              "</div>\n",
              "      <button class=\"colab-df-convert\" onclick=\"convertToInteractive('df-efca4fbb-a953-4ca8-8261-1c1d01a04e56')\"\n",
              "              title=\"Convert this dataframe to an interactive table.\"\n",
              "              style=\"display:none;\">\n",
              "        \n",
              "  <svg xmlns=\"http://www.w3.org/2000/svg\" height=\"24px\"viewBox=\"0 0 24 24\"\n",
              "       width=\"24px\">\n",
              "    <path d=\"M0 0h24v24H0V0z\" fill=\"none\"/>\n",
              "    <path d=\"M18.56 5.44l.94 2.06.94-2.06 2.06-.94-2.06-.94-.94-2.06-.94 2.06-2.06.94zm-11 1L8.5 8.5l.94-2.06 2.06-.94-2.06-.94L8.5 2.5l-.94 2.06-2.06.94zm10 10l.94 2.06.94-2.06 2.06-.94-2.06-.94-.94-2.06-.94 2.06-2.06.94z\"/><path d=\"M17.41 7.96l-1.37-1.37c-.4-.4-.92-.59-1.43-.59-.52 0-1.04.2-1.43.59L10.3 9.45l-7.72 7.72c-.78.78-.78 2.05 0 2.83L4 21.41c.39.39.9.59 1.41.59.51 0 1.02-.2 1.41-.59l7.78-7.78 2.81-2.81c.8-.78.8-2.07 0-2.86zM5.41 20L4 18.59l7.72-7.72 1.47 1.35L5.41 20z\"/>\n",
              "  </svg>\n",
              "      </button>\n",
              "      \n",
              "  <style>\n",
              "    .colab-df-container {\n",
              "      display:flex;\n",
              "      flex-wrap:wrap;\n",
              "      gap: 12px;\n",
              "    }\n",
              "\n",
              "    .colab-df-convert {\n",
              "      background-color: #E8F0FE;\n",
              "      border: none;\n",
              "      border-radius: 50%;\n",
              "      cursor: pointer;\n",
              "      display: none;\n",
              "      fill: #1967D2;\n",
              "      height: 32px;\n",
              "      padding: 0 0 0 0;\n",
              "      width: 32px;\n",
              "    }\n",
              "\n",
              "    .colab-df-convert:hover {\n",
              "      background-color: #E2EBFA;\n",
              "      box-shadow: 0px 1px 2px rgba(60, 64, 67, 0.3), 0px 1px 3px 1px rgba(60, 64, 67, 0.15);\n",
              "      fill: #174EA6;\n",
              "    }\n",
              "\n",
              "    [theme=dark] .colab-df-convert {\n",
              "      background-color: #3B4455;\n",
              "      fill: #D2E3FC;\n",
              "    }\n",
              "\n",
              "    [theme=dark] .colab-df-convert:hover {\n",
              "      background-color: #434B5C;\n",
              "      box-shadow: 0px 1px 3px 1px rgba(0, 0, 0, 0.15);\n",
              "      filter: drop-shadow(0px 1px 2px rgba(0, 0, 0, 0.3));\n",
              "      fill: #FFFFFF;\n",
              "    }\n",
              "  </style>\n",
              "\n",
              "      <script>\n",
              "        const buttonEl =\n",
              "          document.querySelector('#df-efca4fbb-a953-4ca8-8261-1c1d01a04e56 button.colab-df-convert');\n",
              "        buttonEl.style.display =\n",
              "          google.colab.kernel.accessAllowed ? 'block' : 'none';\n",
              "\n",
              "        async function convertToInteractive(key) {\n",
              "          const element = document.querySelector('#df-efca4fbb-a953-4ca8-8261-1c1d01a04e56');\n",
              "          const dataTable =\n",
              "            await google.colab.kernel.invokeFunction('convertToInteractive',\n",
              "                                                     [key], {});\n",
              "          if (!dataTable) return;\n",
              "\n",
              "          const docLinkHtml = 'Like what you see? Visit the ' +\n",
              "            '<a target=\"_blank\" href=https://colab.research.google.com/notebooks/data_table.ipynb>data table notebook</a>'\n",
              "            + ' to learn more about interactive tables.';\n",
              "          element.innerHTML = '';\n",
              "          dataTable['output_type'] = 'display_data';\n",
              "          await google.colab.output.renderOutput(dataTable, element);\n",
              "          const docLink = document.createElement('div');\n",
              "          docLink.innerHTML = docLinkHtml;\n",
              "          element.appendChild(docLink);\n",
              "        }\n",
              "      </script>\n",
              "    </div>\n",
              "  </div>\n",
              "  "
            ]
          },
          "metadata": {},
          "execution_count": 3
        }
      ],
      "source": [
        "import numpy as np\n",
        "import pandas as pd\n",
        "import matplotlib.pyplot as plt\n",
        "df = pd.read_excel('/content/bangdiem.xlsx')\n",
        "df.head()\n",
        "#hàm cho biết mối tương quan giữa x và y\n",
        "df.corr()"
      ]
    },
    {
      "cell_type": "code",
      "source": [
        "#các bước thực hiện mô hình hồi quy tuyến tính Y = aX + b \n"
      ],
      "metadata": {
        "id": "QmnblprhYAjY"
      },
      "execution_count": null,
      "outputs": []
    },
    {
      "cell_type": "code",
      "source": [
        "#thuật toán simple linear regression : hồi quy tuyến tính 1 biến độc lập"
      ],
      "metadata": {
        "id": "tuGzkMFYb304"
      },
      "execution_count": null,
      "outputs": []
    },
    {
      "cell_type": "code",
      "source": [
        "#bước 1 lấy dữ liệu hoặc tạo dữ liệu cho mô hình \n",
        "import numpy as np\n",
        "import pandas as pd\n",
        "import matplotlib.pyplot as plt\n",
        "df = pd.read_excel('/content/bangdiem.xlsx')\n",
        "print(df)"
      ],
      "metadata": {
        "colab": {
          "base_uri": "https://localhost:8080/"
        },
        "id": "cQQlIGy1YNbJ",
        "outputId": "4a30c72b-6be4-4d34-d5d8-512979e8b794"
      },
      "execution_count": null,
      "outputs": [
        {
          "output_type": "stream",
          "name": "stdout",
          "text": [
            "   so_gio_hoc  diem\n",
            "0           2    30\n",
            "1           3    35\n",
            "2           4    40\n",
            "3           5    44\n",
            "4           6    48\n",
            "5           7    60\n",
            "6           8    66\n",
            "7           9    70\n",
            "8          10    75\n"
          ]
        }
      ]
    },
    {
      "cell_type": "code",
      "source": [
        "X = np.array([df.so_gio_hoc.values]).T # đưa X về mảng 2 chiều // .T để chuyển X về dạng đứng \n",
        "Y = df.diem.values\n",
        "print(X)\n",
        "print(Y)"
      ],
      "metadata": {
        "colab": {
          "base_uri": "https://localhost:8080/"
        },
        "id": "z_Ihk4wrZpDq",
        "outputId": "fe80b435-0ca2-4296-8b3f-43e3f0ff7b3f"
      },
      "execution_count": null,
      "outputs": [
        {
          "output_type": "stream",
          "name": "stdout",
          "text": [
            "[[ 2]\n",
            " [ 3]\n",
            " [ 4]\n",
            " [ 5]\n",
            " [ 6]\n",
            " [ 7]\n",
            " [ 8]\n",
            " [ 9]\n",
            " [10]]\n",
            "[30 35 40 44 48 60 66 70 75]\n"
          ]
        }
      ]
    },
    {
      "cell_type": "code",
      "source": [
        "#bước 2 : xác định X, Y gọi hàm LinearRegression\n",
        "import sklearn.linear_model as lm\n",
        "LR = lm.LinearRegression() # LR là ghi tắt Linear_regression\n"
      ],
      "metadata": {
        "id": "13yZ6oinYW7e"
      },
      "execution_count": null,
      "outputs": []
    },
    {
      "cell_type": "code",
      "source": [
        "#bước 3: train model\n",
        "LR.fit(X,Y) #tìm mối liên hệ giữa X và Y tức là xác định hệ số a và b\n",
        "a =LR.coef_\n",
        "b =LR.intercept_\n",
        "print(\"hệ số a:\\n\",a)\n",
        "print(\"hệ số b:\\n\",b)\n",
        "# => pt cần tìm Y = 5.888333X + 16.699999"
      ],
      "metadata": {
        "colab": {
          "base_uri": "https://localhost:8080/"
        },
        "id": "tiXbY2u8Y8ZD",
        "outputId": "5bbc2620-917a-4022-f0c8-27db9ebb1e29"
      },
      "execution_count": null,
      "outputs": [
        {
          "output_type": "stream",
          "name": "stdout",
          "text": [
            "hệ số a:\n",
            " [5.88333333]\n",
            "hệ số b:\n",
            " 16.69999999999999\n"
          ]
        }
      ]
    },
    {
      "cell_type": "code",
      "source": [
        "from os import pardir\n",
        "#bước 4: test data \n",
        "Yp = LR.predict(X)\n",
        "print(Yp) # Yp là đầu ra dự đoán sau khi train\n",
        "print(Y)  # Y là đầu ra kết quả ban đầu"
      ],
      "metadata": {
        "colab": {
          "base_uri": "https://localhost:8080/"
        },
        "id": "EprLZBjUa6LR",
        "outputId": "e2600bdd-79a5-45c2-e33f-cd5cb499eac3"
      },
      "execution_count": null,
      "outputs": [
        {
          "output_type": "stream",
          "name": "stdout",
          "text": [
            "[28.46666667 34.35       40.23333333 46.11666667 52.         57.88333333\n",
            " 63.76666667 69.65       75.53333333]\n",
            "[30 35 40 44 48 60 66 70 75]\n"
          ]
        }
      ]
    },
    {
      "cell_type": "code",
      "source": [
        "#vẽ biểu đồ để quang sát # do dùng hồi quy tuyến tính nên mô hình là đường thẳng\n",
        "plt.plot(X,Y,\"g*\")\n",
        "plt.plot(X,Yp,\"r--\")"
      ],
      "metadata": {
        "colab": {
          "base_uri": "https://localhost:8080/",
          "height": 282
        },
        "id": "zcIieZ4hbgxz",
        "outputId": "e05aa1d7-3c0b-4ee6-b24f-542b32c76c2a"
      },
      "execution_count": null,
      "outputs": [
        {
          "output_type": "execute_result",
          "data": {
            "text/plain": [
              "[<matplotlib.lines.Line2D at 0x7f81dd5b0c10>]"
            ]
          },
          "metadata": {},
          "execution_count": 26
        },
        {
          "output_type": "display_data",
          "data": {
            "text/plain": [
              "<Figure size 432x288 with 1 Axes>"
            ],
            "image/png": "[encoded data removed]"
          },
          "metadata": {
            "needs_background": "light"
          }
        }
      ]
    },
    {
      "cell_type": "code",
      "source": [
        "# thuật toán multiple linear regression: hồi quy tuyến tính nhiều biến độc lập \n",
        " # hàm : # Y = a1.X1 + a2.X2 + a3.X3 + a4.X4 + .....+ an.Xn"
      ],
      "metadata": {
        "id": "oO1Ux1HIcDvX"
      },
      "execution_count": null,
      "outputs": []
    },
    {
      "cell_type": "code",
      "source": [
        "#các bước thực hiện"
      ],
      "metadata": {
        "id": "WuwNqbp1deyQ"
      },
      "execution_count": null,
      "outputs": []
    },
    {
      "cell_type": "code",
      "source": [
        "#bước 1 lấy dữ liệu hoặc tạo dữ liệu cho mô hình\n",
        "import numpy as np\n",
        "import pandas as pd\n",
        "import matplotlib.pyplot as plt\n",
        "df = pd.read_excel('/content/bangdiem1.xlsx')\n",
        "print(df)"
      ],
      "metadata": {
        "colab": {
          "base_uri": "https://localhost:8080/"
        },
        "id": "XQjQ3jVTc6uw",
        "outputId": "f9663435-27f9-41c5-d19e-459ec92e9308"
      },
      "execution_count": null,
      "outputs": [
        {
          "output_type": "stream",
          "name": "stdout",
          "text": [
            "   so_gio_hoc  do_tap_trung  pp_hoc  tuoi  diem\n",
            "0           2             5       1    20    30\n",
            "1           3             4       2    25    35\n",
            "2           4             2       4    40    40\n",
            "3           5             4       3    30    44\n",
            "4           6             2       2    20    48\n",
            "5           7             3       2    30    60\n",
            "6           8             5       1    30    66\n",
            "7           9             2       3    50    70\n",
            "8          10             1       2    15    75\n"
          ]
        }
      ]
    },
    {
      "cell_type": "code",
      "source": [
        "X = np.array([df.so_gio_hoc.values,df.do_tap_trung,df.pp_hoc,df.tuoi,df.diem]).T # đưa X về mảng 2 chiều // .T để chuyển X về dạng đứng \n",
        "Y = df.diem.values\n",
        "print(X)\n",
        "print(Y)\n",
        "# mỗi mảng 1 chiều đó là 1 trường hợp"
      ],
      "metadata": {
        "colab": {
          "base_uri": "https://localhost:8080/"
        },
        "id": "me9madWZc_km",
        "outputId": "11d75c70-461b-4eb9-a150-2f8809762646"
      },
      "execution_count": null,
      "outputs": [
        {
          "output_type": "stream",
          "name": "stdout",
          "text": [
            "[[ 2  5  1 20 30]\n",
            " [ 3  4  2 25 35]\n",
            " [ 4  2  4 40 40]\n",
            " [ 5  4  3 30 44]\n",
            " [ 6  2  2 20 48]\n",
            " [ 7  3  2 30 60]\n",
            " [ 8  5  1 30 66]\n",
            " [ 9  2  3 50 70]\n",
            " [10  1  2 15 75]]\n",
            "[30 35 40 44 48 60 66 70 75]\n"
          ]
        }
      ]
    },
    {
      "cell_type": "code",
      "source": [
        "#bước 2 : xác định X, Y gọi hàm LinearRegression\n",
        "import sklearn.linear_model as lm\n",
        "LR = lm.LinearRegression() # LR là ghi tắt Linear_regression"
      ],
      "metadata": {
        "id": "xjeudwroeGgY"
      },
      "execution_count": null,
      "outputs": []
    },
    {
      "cell_type": "code",
      "source": [
        "#bước 3: train model\n",
        "LR.fit(X,Y) #tìm mối liên hệ giữa X và Y tức là xác định hệ số a và b\n",
        "a =LR.coef_\n",
        "b =LR.intercept_\n",
        "print(\"hệ số a:\\n\",a)\n",
        "print(\"hệ số b:\\n\",b)"
      ],
      "metadata": {
        "colab": {
          "base_uri": "https://localhost:8080/"
        },
        "id": "da8BpjAzeO1G",
        "outputId": "5dfe7027-6ba0-479f-fd9e-4c01394909b3"
      },
      "execution_count": null,
      "outputs": [
        {
          "output_type": "stream",
          "name": "stdout",
          "text": [
            "hệ số a:\n",
            " [1.89019689e-15 7.77156117e-16 3.14595137e-16 1.38777878e-16\n",
            " 1.00000000e+00]\n",
            "hệ số b:\n",
            " -7.105427357601002e-15\n"
          ]
        }
      ]
    },
    {
      "cell_type": "code",
      "source": [
        "#bước 4: test data \n",
        "Yp = LR.predict(X)\n",
        "print(Yp) # Yp là đầu ra dự đoán sau khi train\n",
        "print(Y)  # Y là đầu ra kết quả ban đầu"
      ],
      "metadata": {
        "colab": {
          "base_uri": "https://localhost:8080/"
        },
        "id": "eVq3BFXqeXXN",
        "outputId": "f09449d4-7c56-4d2b-e124-ee7acef507ea"
      },
      "execution_count": null,
      "outputs": [
        {
          "output_type": "stream",
          "name": "stdout",
          "text": [
            "[30. 35. 40. 44. 48. 60. 66. 70. 75.]\n",
            "[30 35 40 44 48 60 66 70 75]\n"
          ]
        }
      ]
    },
    {
      "cell_type": "code",
      "source": [
        "# thuật toán polynomial regression : hồi quy đa thức\n",
        "# hàm : Y = a.X^2 + b.X + c\n",
        "#       Y = a.X^3 + b.X^2 + c.X + d\n",
        "#       Y = a.X^4 + b.X^3 + c.X^2 + d.X + e"
      ],
      "metadata": {
        "id": "ckNr4yTiey7L"
      },
      "execution_count": null,
      "outputs": []
    },
    {
      "cell_type": "code",
      "source": [
        "#các bước thực hiện\n",
        "import numpy as np\n",
        "import pandas as pd\n",
        "import matplotlib.pyplot as plt\n",
        "import sklearn.linear_model as lm\n",
        "from sklearn.pipeline import make_pipeline\n",
        "from sklearn.preprocessing import PolynomialFeatures\n",
        "\"bước 1: tạo dữ liệu\"\n",
        "X = np.array([[2,3,4,5,6,7,8,9,10]]).T # chuyển về X về mảng 2 chiều\n",
        "Y = np.array([30,35,40,44,48,60,66,70,75])\n",
        "\"bước 2: model\"\n",
        "LR = lm.LinearRegression()\n",
        "mohinh_hoiquy_dathuc = make_pipeline(PolynomialFeatures(5), LR) # số 5 là số bậc của đa thức muốn đa thức bậc mấy thì thay số vào đa thức\n",
        "#                                                                 đa thức bậc càng cao thì càng chính xác càng gần với giá trị Y ban đầu \n",
        "#                                                               vd : số 3 là đa thức bậc 3, số 4 là đa thức bậc 4\n",
        "\"bước 3: train model X,Y\"\n",
        "mohinh_hoiquy_dathuc.fit(X,Y)\n",
        "\"bước 4: test data\"\n",
        "Yp = mohinh_hoiquy_dathuc.predict(X)\n",
        "print(Yp)\n",
        "print(Y)\n",
        "\n",
        "#vẽ biểu đồ để quan sát\n",
        "plt.plot(X,Y,\"g*\", label = \"True Value\")\n",
        "plt.plot(X,Yp,\"r--\", label = \"Predict Value\")\n",
        "plt.legend(loc = 2) # hiện giá trị biến"
      ],
      "metadata": {
        "colab": {
          "base_uri": "https://localhost:8080/",
          "height": 334
        },
        "id": "tKD89MZ0hFX6",
        "outputId": "91e087ea-607a-48cc-c44b-b2f2a33e9d8b"
      },
      "execution_count": null,
      "outputs": [
        {
          "output_type": "stream",
          "name": "stdout",
          "text": [
            "[29.76456877 35.98426573 38.86130536 43.3467366  50.37762238 58.53088578\n",
            " 65.67715618 70.63461538 74.82284382]\n",
            "[30 35 40 44 48 60 66 70 75]\n"
          ]
        },
        {
          "output_type": "execute_result",
          "data": {
            "text/plain": [
              "<matplotlib.legend.Legend at 0x7f81daa1bed0>"
            ]
          },
          "metadata": {},
          "execution_count": 39
        },
        {
          "output_type": "display_data",
          "data": {
            "text/plain": [
              "<Figure size 432x288 with 1 Axes>"
            ],
            "image/png": "[encoded data removed]"
          },
          "metadata": {
            "needs_background": "light"
          }
        }
      ]
    }
  ]
}