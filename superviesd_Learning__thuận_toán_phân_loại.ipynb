{
  "nbformat": 4,
  "nbformat_minor": 0,
  "metadata": {
    "colab": {
      "name": "superviesd Learning _thuận toán phân loại.ipynb",
      "provenance": [],
      "authorship_tag": "ABX9TyM02HlEVt5bEZOJadIh9lrV",
      "include_colab_link": true
    },
    "kernelspec": {
      "name": "python3",
      "display_name": "Python 3"
    },
    "language_info": {
      "name": "python"
    }
  },
  "cells": [
    {
      "cell_type": "markdown",
      "metadata": {
        "id": "view-in-github",
        "colab_type": "text"
      },
      "source": [
        "<a href=\"https://colab.research.google.com/github/Trieunguyen1/h-c-m-y/blob/main/superviesd_Learning__thu%E1%BA%ADn_to%C3%A1n_ph%C3%A2n_lo%E1%BA%A1i.ipynb\" target=\"_parent\"><img src=\"https://colab.research.google.com/assets/colab-badge.svg\" alt=\"Open In Colab\"/></a>"
      ]
    },
    {
      "cell_type": "code",
      "execution_count": null,
      "metadata": {
        "id": "BbmE8Hu0kOgK"
      },
      "outputs": [],
      "source": [
        "#Đối dữ liệu phía dưới  thuật toán phân loại Y : chỉ nhận giá trị 0 hoặc 1 (0 là rớt hoặc 1 là đậu)\n",
        "#Có nghĩa là có hoặc không vd: Y : có bị bênh hoặc không bị bênh\n",
        "#                          vd: Y : có mưa hoặc không có mưa"
      ]
    },
    {
      "cell_type": "code",
      "source": [
        "#Y cũng có thể phân loại nhiều nhóm khác"
      ],
      "metadata": {
        "id": "XhrM6WBcocVT"
      },
      "execution_count": null,
      "outputs": []
    },
    {
      "cell_type": "code",
      "source": [
        "import numpy as np\n",
        "import pandas as pd\n",
        "import matplotlib.pyplot as plt\n",
        "df = pd.read_excel('/content/bangdiem2.xlsx')\n",
        "#hiện bản điểm lên\n",
        "print(df) # "
      ],
      "metadata": {
        "colab": {
          "base_uri": "https://localhost:8080/"
        },
        "id": "MoA9otEynUUi",
        "outputId": "7fe3102e-8ddc-4309-fcba-74c6ff2d3248"
      },
      "execution_count": null,
      "outputs": [
        {
          "output_type": "stream",
          "name": "stdout",
          "text": [
            "   so_gio_hoc  diem\n",
            "0           2     0\n",
            "1           3     0\n",
            "2           4     0\n",
            "3           5     0\n",
            "4           6     0\n",
            "5           7     1\n",
            "6           8     1\n",
            "7           9     1\n",
            "8          10     1\n"
          ]
        }
      ]
    },
    {
      "cell_type": "code",
      "source": [
        ""
      ],
      "metadata": {
        "id": "9WVsenzulgYJ"
      },
      "execution_count": null,
      "outputs": []
    },
    {
      "cell_type": "code",
      "source": [
        "#mô hình hồi quy logistic \n",
        "# thực chất tìm xác suất đúng nhất phân lớp đối tượng để đưa ra kết luận có hoặc không. \n",
        "#f(y) >= 0.5 thì Yes, f(y) < 0.5 thì No (f(y) là hàm hồi quy logistic"
      ],
      "metadata": {
        "id": "Y9qpzBoo1qMy"
      },
      "execution_count": null,
      "outputs": []
    },
    {
      "cell_type": "code",
      "source": [
        ""
      ],
      "metadata": {
        "id": "YXcHrAaQqzAq"
      },
      "execution_count": null,
      "outputs": []
    },
    {
      "cell_type": "code",
      "source": [
        ""
      ],
      "metadata": {
        "id": "70hvB9n4qzEV"
      },
      "execution_count": null,
      "outputs": []
    },
    {
      "cell_type": "code",
      "source": [
        "#mô hình hồi quy logistic 1 biến\n",
        "# link bài giảng: https://www.youtube.com/watch?v=Tji8QSVX3_4&list=PLWBrqglnjNl17CA7H7RGr9uHAbDKbwRKq&index=6"
      ],
      "metadata": {
        "id": "QnbFw070cRIA"
      },
      "execution_count": null,
      "outputs": []
    },
    {
      "cell_type": "code",
      "source": [
        "import pandas as pd\n",
        "import numpy as np\n",
        "import math\n",
        "from sklearn.linear_model import LogisticRegression, LinearRegression\n",
        "import matplotlib.pyplot as plt \n",
        "from matplotlib.pyplot import figure"
      ],
      "metadata": {
        "id": "ez8P1pYQchM2"
      },
      "execution_count": 1,
      "outputs": []
    },
    {
      "cell_type": "code",
      "source": [
        "filename = \"hoursOfStudy.csv\"\n",
        "dataframe = pd.read_csv(filename)\n",
        "dataframe.columns\n",
        "print(dataframe)\n",
        "#dataframe"
      ],
      "metadata": {
        "colab": {
          "base_uri": "https://localhost:8080/"
        },
        "id": "OIMjbeAwcvSd",
        "outputId": "05aaf018-3c05-4d95-8729-1479e6c781e0"
      },
      "execution_count": 5,
      "outputs": [
        {
          "output_type": "stream",
          "name": "stdout",
          "text": [
            "    hours of study  Pass\n",
            "0             0.20     0\n",
            "1             0.30     0\n",
            "2             0.40     0\n",
            "3             0.50     0\n",
            "4             0.60     0\n",
            "5             0.80     0\n",
            "6             1.00     0\n",
            "7             1.25     0\n",
            "8             1.50     0\n",
            "9             1.75     0\n",
            "10            1.75     1\n",
            "11            2.00     0\n",
            "12            2.25     1\n",
            "13            2.50     0\n",
            "14            2.75     1\n",
            "15            3.00     0\n",
            "16            3.25     1\n",
            "17            3.50     0\n",
            "18            4.00     1\n",
            "19            4.25     1\n",
            "20            4.50     1\n",
            "21            4.75     1\n",
            "22            5.00     1\n",
            "23            5.25     1\n",
            "24            6.00     1\n",
            "25            6.50     1\n",
            "26            6.75     1\n",
            "27            7.00     1\n"
          ]
        }
      ]
    },
    {
      "cell_type": "code",
      "source": [
        "# biến dùng để train và test \n",
        "X = dataframe.drop(['Pass'], axis='columns') # tách cột 'pass'\n",
        "y = dataframe['Pass']\n"
      ],
      "metadata": {
        "id": "FfN49GXDc328"
      },
      "execution_count": 6,
      "outputs": []
    },
    {
      "cell_type": "code",
      "source": [
        "#thuật toán hồi quy tuyến tính dùng để quan sát trên biểu đồ\n",
        "linear_regression = LinearRegression()\n",
        "#train this model\n",
        "linear_regression.fit(X, y)"
      ],
      "metadata": {
        "id": "pbsHjMjid3D-"
      },
      "execution_count": null,
      "outputs": []
    },
    {
      "cell_type": "code",
      "source": [
        "# chọn thuật toán logistic regression\n",
        "logistic_regression = LogisticRegression()\n",
        "#train the model\n",
        "logistic_regression.fit(X,y)"
      ],
      "metadata": {
        "colab": {
          "base_uri": "https://localhost:8080/"
        },
        "id": "pC3TCbJgdI8i",
        "outputId": "af925004-f4df-430f-8c3d-b94bd3110cc4"
      },
      "execution_count": 8,
      "outputs": [
        {
          "output_type": "execute_result",
          "data": {
            "text/plain": [
              "LogisticRegression()"
            ]
          },
          "metadata": {},
          "execution_count": 8
        }
      ]
    },
    {
      "cell_type": "code",
      "source": [
        "\"câu lệnh dùng để điều chỉnh kích thước của biểu đồ bên dưới\"\n",
        "figure(figsize=(8, 6), dpi=100)\n",
        "\n",
        "\"đặt tên cho trục x: Hours of study, đặt tên cho trục y:Pass/Fail\"\n",
        "plt.xlabel('Hours of study')\n",
        "plt.ylabel('Pass/Fail')\n",
        "\n",
        "\"giới hạn đầu trên và đầu dưới của trục y\"\n",
        "plt.ylim(-0.02, 1.02)\n",
        "\n",
        "\"vẽ các điểm giá trị X và y tương ứng trong tập dữ liệu\"\n",
        "# marker là biểu tượng để giá trị X hiển thị lên trên biểu đồ , vd: marker = '+' thì X dc thể hiện trên biểu đồ là dấu +\n",
        "# color là màu sắc của X vd: color = 'blue' thì là màu xanh dương\n",
        "plt.scatter(X, y, marker='+', color='blue')  \n",
        "\n",
        "\"vẽ đường thẳng linear regression\"\n",
        "#plt.plot(X, linear_regression.coef_*X + linear_regression.intercept_, color='green')\n",
        "\n",
        "#vẽ đồ thị của phần pass qua môn\n",
        "plt.plot(X, pd.DataFrame(logistic_regression.predict_proba(X))[1], color='purple')\n",
        "#vẽ đồ thị của phần tạch \n",
        "plt.plot(X, pd.DataFrame(logistic_regression.predict_proba(X))[0], color='red')\n",
        "\n",
        "\"phần tử X\"\n",
        "# s ở đây là size:kích cỡ của giá trị X hiển thị trên biểu đồ\n",
        "plt.scatter(3.1, (logistic_regression.predict_proba([[3.1]]))[0][1], color='purple', marker='.', s=200)"
      ],
      "metadata": {
        "colab": {
          "base_uri": "https://localhost:8080/",
          "height": 605
        },
        "id": "tiDAet_fdqQ3",
        "outputId": "b72edaa2-6fc4-46b7-f633-5d5ccc51e2e6"
      },
      "execution_count": 9,
      "outputs": [
        {
          "output_type": "stream",
          "name": "stderr",
          "text": [
            "/usr/local/lib/python3.7/dist-packages/sklearn/base.py:451: UserWarning: X does not have valid feature names, but LogisticRegression was fitted with feature names\n",
            "  \"X does not have valid feature names, but\"\n"
          ]
        },
        {
          "output_type": "execute_result",
          "data": {
            "text/plain": [
              "<matplotlib.collections.PathCollection at 0x7f83aead8590>"
            ]
          },
          "metadata": {},
          "execution_count": 9
        },
        {
          "output_type": "display_data",
          "data": {
            "text/plain": [
              "<Figure size 800x600 with 1 Axes>"
            ],
            "image/png": "[encoded data removed]"
          },
          "metadata": {
            "needs_background": "light"
          }
        }
      ]
    },
    {
      "cell_type": "code",
      "source": [
        "#predict Probability : lệnh ham.predict_proba() dùng để biểu thị xác suất xảy ra có pass/faile trong tập dữ liệu này\n",
        "logistic_regression.predict_proba([[3.1]]) # giá trị X luôn là mảng 2 chiều đặt [[giá trị X cần dự đoán]]\n",
        "\n",
        "#0.39501417+0.60498583 = 1\n",
        "\"kết quả: cho thấy xác suất để tạch = 0.39501417,xác suất để được pass qua:0.60498583\"\n"
      ],
      "metadata": {
        "colab": {
          "base_uri": "https://localhost:8080/"
        },
        "id": "AZLTzDCugsaA",
        "outputId": "41114087-8ef4-4118-8250-77f5bdcc95c2"
      },
      "execution_count": 15,
      "outputs": [
        {
          "output_type": "stream",
          "name": "stderr",
          "text": [
            "/usr/local/lib/python3.7/dist-packages/sklearn/base.py:451: UserWarning: X does not have valid feature names, but LogisticRegression was fitted with feature names\n",
            "  \"X does not have valid feature names, but\"\n",
            "/usr/local/lib/python3.7/dist-packages/sklearn/base.py:451: UserWarning: X does not have valid feature names, but LogisticRegression was fitted with feature names\n",
            "  \"X does not have valid feature names, but\"\n"
          ]
        },
        {
          "output_type": "execute_result",
          "data": {
            "text/plain": [
              "array([1])"
            ]
          },
          "metadata": {},
          "execution_count": 15
        }
      ]
    },
    {
      "cell_type": "code",
      "source": [
        "# kết quả dự đoán tại X = 3.1 (nghĩa là học được 3.1 giờ)\n",
        "logistic_regression.predict([[3.1]])\n",
        "\"kết quả là array([1]) có nghĩa là học trong 3.1 giờ thì được pass qua môn\""
      ],
      "metadata": {
        "colab": {
          "base_uri": "https://localhost:8080/"
        },
        "id": "BN52_sJoiSpC",
        "outputId": "fb72b20a-714c-40db-a613-283dfdd93770"
      },
      "execution_count": 16,
      "outputs": [
        {
          "output_type": "stream",
          "name": "stderr",
          "text": [
            "/usr/local/lib/python3.7/dist-packages/sklearn/base.py:451: UserWarning: X does not have valid feature names, but LogisticRegression was fitted with feature names\n",
            "  \"X does not have valid feature names, but\"\n"
          ]
        },
        {
          "output_type": "execute_result",
          "data": {
            "text/plain": [
              "array([1])"
            ]
          },
          "metadata": {},
          "execution_count": 16
        }
      ]
    },
    {
      "cell_type": "code",
      "source": [
        "pd.DataFrame(logistic_regression.predict_proba(X)) # cột bên trái là xác suất để tạch môn (dốt)\n",
        "                                     # cột bên phải là xác suất để pass cho môn"
      ],
      "metadata": {
        "colab": {
          "base_uri": "https://localhost:8080/",
          "height": 927
        },
        "id": "YGHctLKBjlU7",
        "outputId": "aeda8097-17fd-451d-d3d8-c04447f33f34"
      },
      "execution_count": 21,
      "outputs": [
        {
          "output_type": "execute_result",
          "data": {
            "text/plain": [
              "           0         1\n",
              "0   0.962967  0.037033\n",
              "1   0.958160  0.041840\n",
              "2   0.952760  0.047240\n",
              "3   0.946701  0.053299\n",
              "4   0.939914  0.060086\n",
              "5   0.923854  0.076146\n",
              "6   0.903941  0.096059\n",
              "7   0.872603  0.127397\n",
              "8   0.832931  0.167069\n",
              "9   0.783963  0.216037\n",
              "10  0.783963  0.216037\n",
              "11  0.725376  0.274624\n",
              "12  0.657834  0.342166\n",
              "13  0.583225  0.416775\n",
              "14  0.504599  0.495401\n",
              "15  0.425745  0.574255\n",
              "16  0.350496  0.649504\n",
              "17  0.282015  0.717985\n",
              "18  0.172252  0.827748\n",
              "19  0.131544  0.868456\n",
              "20  0.099302  0.900698\n",
              "21  0.074286  0.925714\n",
              "22  0.055187  0.944813\n",
              "23  0.040781  0.959219\n",
              "24  0.016130  0.983870\n",
              "25  0.008611  0.991389\n",
              "26  0.006283  0.993717\n",
              "27  0.004581  0.995419"
            ],
            "text/html": [
              "\n",
              "  <div id=\"df-3cf37279-525a-483f-87ec-36aef4da1a52\">\n",
              "    <div class=\"colab-df-container\">\n",
              "      <div>\n",
              "<style scoped>\n",
              "    .dataframe tbody tr th:only-of-type {\n",
              "        vertical-align: middle;\n",
              "    }\n",
              "\n",
              "    .dataframe tbody tr th {\n",
              "        vertical-align: top;\n",
              "    }\n",
              "\n",
              "    .dataframe thead th {\n",
              "        text-align: right;\n",
              "    }\n",
              "</style>\n",
              "<table border=\"1\" class=\"dataframe\">\n",
              "  <thead>\n",
              "    <tr style=\"text-align: right;\">\n",
              "      <th></th>\n",
              "      <th>0</th>\n",
              "      <th>1</th>\n",
              "    </tr>\n",
              "  </thead>\n",
              "  <tbody>\n",
              "    <tr>\n",
              "      <th>0</th>\n",
              "      <td>0.962967</td>\n",
              "      <td>0.037033</td>\n",
              "    </tr>\n",
              "    <tr>\n",
              "      <th>1</th>\n",
              "      <td>0.958160</td>\n",
              "      <td>0.041840</td>\n",
              "    </tr>\n",
              "    <tr>\n",
              "      <th>2</th>\n",
              "      <td>0.952760</td>\n",
              "      <td>0.047240</td>\n",
              "    </tr>\n",
              "    <tr>\n",
              "      <th>3</th>\n",
              "      <td>0.946701</td>\n",
              "      <td>0.053299</td>\n",
              "    </tr>\n",
              "    <tr>\n",
              "      <th>4</th>\n",
              "      <td>0.939914</td>\n",
              "      <td>0.060086</td>\n",
              "    </tr>\n",
              "    <tr>\n",
              "      <th>5</th>\n",
              "      <td>0.923854</td>\n",
              "      <td>0.076146</td>\n",
              "    </tr>\n",
              "    <tr>\n",
              "      <th>6</th>\n",
              "      <td>0.903941</td>\n",
              "      <td>0.096059</td>\n",
              "    </tr>\n",
              "    <tr>\n",
              "      <th>7</th>\n",
              "      <td>0.872603</td>\n",
              "      <td>0.127397</td>\n",
              "    </tr>\n",
              "    <tr>\n",
              "      <th>8</th>\n",
              "      <td>0.832931</td>\n",
              "      <td>0.167069</td>\n",
              "    </tr>\n",
              "    <tr>\n",
              "      <th>9</th>\n",
              "      <td>0.783963</td>\n",
              "      <td>0.216037</td>\n",
              "    </tr>\n",
              "    <tr>\n",
              "      <th>10</th>\n",
              "      <td>0.783963</td>\n",
              "      <td>0.216037</td>\n",
              "    </tr>\n",
              "    <tr>\n",
              "      <th>11</th>\n",
              "      <td>0.725376</td>\n",
              "      <td>0.274624</td>\n",
              "    </tr>\n",
              "    <tr>\n",
              "      <th>12</th>\n",
              "      <td>0.657834</td>\n",
              "      <td>0.342166</td>\n",
              "    </tr>\n",
              "    <tr>\n",
              "      <th>13</th>\n",
              "      <td>0.583225</td>\n",
              "      <td>0.416775</td>\n",
              "    </tr>\n",
              "    <tr>\n",
              "      <th>14</th>\n",
              "      <td>0.504599</td>\n",
              "      <td>0.495401</td>\n",
              "    </tr>\n",
              "    <tr>\n",
              "      <th>15</th>\n",
              "      <td>0.425745</td>\n",
              "      <td>0.574255</td>\n",
              "    </tr>\n",
              "    <tr>\n",
              "      <th>16</th>\n",
              "      <td>0.350496</td>\n",
              "      <td>0.649504</td>\n",
              "    </tr>\n",
              "    <tr>\n",
              "      <th>17</th>\n",
              "      <td>0.282015</td>\n",
              "      <td>0.717985</td>\n",
              "    </tr>\n",
              "    <tr>\n",
              "      <th>18</th>\n",
              "      <td>0.172252</td>\n",
              "      <td>0.827748</td>\n",
              "    </tr>\n",
              "    <tr>\n",
              "      <th>19</th>\n",
              "      <td>0.131544</td>\n",
              "      <td>0.868456</td>\n",
              "    </tr>\n",
              "    <tr>\n",
              "      <th>20</th>\n",
              "      <td>0.099302</td>\n",
              "      <td>0.900698</td>\n",
              "    </tr>\n",
              "    <tr>\n",
              "      <th>21</th>\n",
              "      <td>0.074286</td>\n",
              "      <td>0.925714</td>\n",
              "    </tr>\n",
              "    <tr>\n",
              "      <th>22</th>\n",
              "      <td>0.055187</td>\n",
              "      <td>0.944813</td>\n",
              "    </tr>\n",
              "    <tr>\n",
              "      <th>23</th>\n",
              "      <td>0.040781</td>\n",
              "      <td>0.959219</td>\n",
              "    </tr>\n",
              "    <tr>\n",
              "      <th>24</th>\n",
              "      <td>0.016130</td>\n",
              "      <td>0.983870</td>\n",
              "    </tr>\n",
              "    <tr>\n",
              "      <th>25</th>\n",
              "      <td>0.008611</td>\n",
              "      <td>0.991389</td>\n",
              "    </tr>\n",
              "    <tr>\n",
              "      <th>26</th>\n",
              "      <td>0.006283</td>\n",
              "      <td>0.993717</td>\n",
              "    </tr>\n",
              "    <tr>\n",
              "      <th>27</th>\n",
              "      <td>0.004581</td>\n",
              "      <td>0.995419</td>\n",
              "    </tr>\n",
              "  </tbody>\n",
              "</table>\n",
              "</div>\n",
              "      <button class=\"colab-df-convert\" onclick=\"convertToInteractive('df-3cf37279-525a-483f-87ec-36aef4da1a52')\"\n",
              "              title=\"Convert this dataframe to an interactive table.\"\n",
              "              style=\"display:none;\">\n",
              "        \n",
              "  <svg xmlns=\"http://www.w3.org/2000/svg\" height=\"24px\"viewBox=\"0 0 24 24\"\n",
              "       width=\"24px\">\n",
              "    <path d=\"M0 0h24v24H0V0z\" fill=\"none\"/>\n",
              "    <path d=\"M18.56 5.44l.94 2.06.94-2.06 2.06-.94-2.06-.94-.94-2.06-.94 2.06-2.06.94zm-11 1L8.5 8.5l.94-2.06 2.06-.94-2.06-.94L8.5 2.5l-.94 2.06-2.06.94zm10 10l.94 2.06.94-2.06 2.06-.94-2.06-.94-.94-2.06-.94 2.06-2.06.94z\"/><path d=\"M17.41 7.96l-1.37-1.37c-.4-.4-.92-.59-1.43-.59-.52 0-1.04.2-1.43.59L10.3 9.45l-7.72 7.72c-.78.78-.78 2.05 0 2.83L4 21.41c.39.39.9.59 1.41.59.51 0 1.02-.2 1.41-.59l7.78-7.78 2.81-2.81c.8-.78.8-2.07 0-2.86zM5.41 20L4 18.59l7.72-7.72 1.47 1.35L5.41 20z\"/>\n",
              "  </svg>\n",
              "      </button>\n",
              "      \n",
              "  <style>\n",
              "    .colab-df-container {\n",
              "      display:flex;\n",
              "      flex-wrap:wrap;\n",
              "      gap: 12px;\n",
              "    }\n",
              "\n",
              "    .colab-df-convert {\n",
              "      background-color: #E8F0FE;\n",
              "      border: none;\n",
              "      border-radius: 50%;\n",
              "      cursor: pointer;\n",
              "      display: none;\n",
              "      fill: #1967D2;\n",
              "      height: 32px;\n",
              "      padding: 0 0 0 0;\n",
              "      width: 32px;\n",
              "    }\n",
              "\n",
              "    .colab-df-convert:hover {\n",
              "      background-color: #E2EBFA;\n",
              "      box-shadow: 0px 1px 2px rgba(60, 64, 67, 0.3), 0px 1px 3px 1px rgba(60, 64, 67, 0.15);\n",
              "      fill: #174EA6;\n",
              "    }\n",
              "\n",
              "    [theme=dark] .colab-df-convert {\n",
              "      background-color: #3B4455;\n",
              "      fill: #D2E3FC;\n",
              "    }\n",
              "\n",
              "    [theme=dark] .colab-df-convert:hover {\n",
              "      background-color: #434B5C;\n",
              "      box-shadow: 0px 1px 3px 1px rgba(0, 0, 0, 0.15);\n",
              "      filter: drop-shadow(0px 1px 2px rgba(0, 0, 0, 0.3));\n",
              "      fill: #FFFFFF;\n",
              "    }\n",
              "  </style>\n",
              "\n",
              "      <script>\n",
              "        const buttonEl =\n",
              "          document.querySelector('#df-3cf37279-525a-483f-87ec-36aef4da1a52 button.colab-df-convert');\n",
              "        buttonEl.style.display =\n",
              "          google.colab.kernel.accessAllowed ? 'block' : 'none';\n",
              "\n",
              "        async function convertToInteractive(key) {\n",
              "          const element = document.querySelector('#df-3cf37279-525a-483f-87ec-36aef4da1a52');\n",
              "          const dataTable =\n",
              "            await google.colab.kernel.invokeFunction('convertToInteractive',\n",
              "                                                     [key], {});\n",
              "          if (!dataTable) return;\n",
              "\n",
              "          const docLinkHtml = 'Like what you see? Visit the ' +\n",
              "            '<a target=\"_blank\" href=https://colab.research.google.com/notebooks/data_table.ipynb>data table notebook</a>'\n",
              "            + ' to learn more about interactive tables.';\n",
              "          element.innerHTML = '';\n",
              "          dataTable['output_type'] = 'display_data';\n",
              "          await google.colab.output.renderOutput(dataTable, element);\n",
              "          const docLink = document.createElement('div');\n",
              "          docLink.innerHTML = docLinkHtml;\n",
              "          element.appendChild(docLink);\n",
              "        }\n",
              "      </script>\n",
              "    </div>\n",
              "  </div>\n",
              "  "
            ]
          },
          "metadata": {},
          "execution_count": 21
        }
      ]
    },
    {
      "cell_type": "code",
      "source": [
        "\"lấy xác suất của phần pass qua môn\"\n",
        "pd.DataFrame(logistic_regression.predict_proba(X))[1]"
      ],
      "metadata": {
        "colab": {
          "base_uri": "https://localhost:8080/"
        },
        "id": "DRlo1IupkxJp",
        "outputId": "966d0d96-c2d8-4b93-9814-c7701cb281ee"
      },
      "execution_count": 22,
      "outputs": [
        {
          "output_type": "execute_result",
          "data": {
            "text/plain": [
              "0     0.037033\n",
              "1     0.041840\n",
              "2     0.047240\n",
              "3     0.053299\n",
              "4     0.060086\n",
              "5     0.076146\n",
              "6     0.096059\n",
              "7     0.127397\n",
              "8     0.167069\n",
              "9     0.216037\n",
              "10    0.216037\n",
              "11    0.274624\n",
              "12    0.342166\n",
              "13    0.416775\n",
              "14    0.495401\n",
              "15    0.574255\n",
              "16    0.649504\n",
              "17    0.717985\n",
              "18    0.827748\n",
              "19    0.868456\n",
              "20    0.900698\n",
              "21    0.925714\n",
              "22    0.944813\n",
              "23    0.959219\n",
              "24    0.983870\n",
              "25    0.991389\n",
              "26    0.993717\n",
              "27    0.995419\n",
              "Name: 1, dtype: float64"
            ]
          },
          "metadata": {},
          "execution_count": 22
        }
      ]
    },
    {
      "cell_type": "code",
      "source": [
        ""
      ],
      "metadata": {
        "id": "V6lbrfLLmK1z"
      },
      "execution_count": null,
      "outputs": []
    },
    {
      "cell_type": "code",
      "source": [
        ""
      ],
      "metadata": {
        "id": "j2vevBdYq2Tx"
      },
      "execution_count": null,
      "outputs": []
    },
    {
      "cell_type": "code",
      "source": [
        "#thuật toán hồi quy logicstic nhiều biến\n",
        "# link video bài giảng:https://www.youtube.com/watch?v=PcsTc-yJV7U&list=PLWBrqglnjNl17CA7H7RGr9uHAbDKbwRKq&index=7"
      ],
      "metadata": {
        "id": "IQ-k4cQZmK5S"
      },
      "execution_count": null,
      "outputs": []
    },
    {
      "cell_type": "code",
      "source": [
        "import pandas as pd # thư viện hỗ trợ các thao tác dữ liệu trong python\n",
        "import numpy as np  # thư viện chuyên về làm việc với mảng\n",
        "import math  \n",
        "from sklearn.linear_model import LogisticRegression  # dùng thuật toán LogisticRegression từ thư viện sklearn\n",
        "import matplotlib.pyplot as plt # thư viện dùng để vẽ biểu đồ\n",
        "from matplotlib.pyplot import figure # dùng figure trong thư viện matplotlib.pyplot\n",
        "from sklearn.datasets import load_digits # load_digits chứa ảnh dữ liệu từ 0-9 dưới dạng số\n",
        "from sklearn.model_selection import train_test_split # dùng để chia dữ liệu ra để train và test \n",
        "#show different between \"true\" value and \"predicted\" value\n",
        "from sklearn.metrics import confusion_matrix # dùng để biểu diễn sự trục quan giữa dữ liệu đầu ra dự đoán và dữ liệu đầu ra ban đầu"
      ],
      "metadata": {
        "id": "0Vk8Z04VmS_v"
      },
      "execution_count": 24,
      "outputs": []
    },
    {
      "cell_type": "code",
      "source": [
        "digits = load_digits()\n",
        "dir(digits) # dùng để hiện tên các index \n",
        "\"quan tâm: data, images, taget\"\n",
        "# data: là dữ liệu dùng để train và test\n",
        "# taget: là kết quả của từng dữ liệu đầu vào"
      ],
      "metadata": {
        "colab": {
          "base_uri": "https://localhost:8080/"
        },
        "id": "lJX4JOEWnTU6",
        "outputId": "ea830d56-4581-4511-9bf9-e6fd64cb90f6"
      },
      "execution_count": 27,
      "outputs": [
        {
          "output_type": "execute_result",
          "data": {
            "text/plain": [
              "['DESCR', 'data', 'feature_names', 'frame', 'images', 'target', 'target_names']"
            ]
          },
          "metadata": {},
          "execution_count": 27
        }
      ]
    },
    {
      "cell_type": "code",
      "source": [
        "#khảo sát sơ để hiểu ra thư viện load_digits"
      ],
      "metadata": {
        "id": "8QcHoMY4n0rZ"
      },
      "execution_count": null,
      "outputs": []
    },
    {
      "cell_type": "code",
      "source": [
        "len(digits['images']) # hiện tổng số ảnh trong load_digits\n",
        "\"kết quả: 1797 ảnh tính từ phần tứ [0] đến phần tử [1796]\""
      ],
      "metadata": {
        "colab": {
          "base_uri": "https://localhost:8080/",
          "height": 35
        },
        "id": "GWy2TMYUnzXQ",
        "outputId": "ba4b9242-94c3-45ff-cab8-cdc896f100e0"
      },
      "execution_count": 29,
      "outputs": [
        {
          "output_type": "execute_result",
          "data": {
            "text/plain": [
              "'kết quả: 1797 ảnh tính từ phần tứ [0] đến phần tử [1796]'"
            ],
            "application/vnd.google.colaboratory.intrinsic+json": {
              "type": "string"
            }
          },
          "metadata": {},
          "execution_count": 29
        }
      ]
    },
    {
      "cell_type": "code",
      "source": [
        "#hiện phần tử thứ [0] của images\n",
        "digits['images'][0] # dữ liệu có 8x8 matrix"
      ],
      "metadata": {
        "colab": {
          "base_uri": "https://localhost:8080/"
        },
        "id": "em1zza8xoQ3p",
        "outputId": "9b5edac7-18d6-4385-a0fe-f4868a4dafb4"
      },
      "execution_count": 30,
      "outputs": [
        {
          "output_type": "execute_result",
          "data": {
            "text/plain": [
              "array([[ 0.,  0.,  5., 13.,  9.,  1.,  0.,  0.],\n",
              "       [ 0.,  0., 13., 15., 10., 15.,  5.,  0.],\n",
              "       [ 0.,  3., 15.,  2.,  0., 11.,  8.,  0.],\n",
              "       [ 0.,  4., 12.,  0.,  0.,  8.,  8.,  0.],\n",
              "       [ 0.,  5.,  8.,  0.,  0.,  9.,  8.,  0.],\n",
              "       [ 0.,  4., 11.,  0.,  1., 12.,  7.,  0.],\n",
              "       [ 0.,  2., 14.,  5., 10., 12.,  0.,  0.],\n",
              "       [ 0.,  0.,  6., 13., 10.,  0.,  0.,  0.]])"
            ]
          },
          "metadata": {},
          "execution_count": 30
        }
      ]
    },
    {
      "cell_type": "code",
      "source": [
        "digits['images'][0].shape # dùng lệnh này thì khỏi cần đếm"
      ],
      "metadata": {
        "colab": {
          "base_uri": "https://localhost:8080/"
        },
        "id": "0LTr9vHvoeIJ",
        "outputId": "ed306138-4b26-4bfe-ea8f-28e0acf5a35a"
      },
      "execution_count": 31,
      "outputs": [
        {
          "output_type": "execute_result",
          "data": {
            "text/plain": [
              "(8, 8)"
            ]
          },
          "metadata": {},
          "execution_count": 31
        }
      ]
    },
    {
      "cell_type": "code",
      "source": [
        "#hiện phần tử thứ 101 của images\"\n",
        "plt.matshow(digits['images'][100])\n",
        "\n",
        "#đầu ra của images[100] là target[100]\"\n",
        "digits['target'][100]\n",
        "\"ta thấy kết quả hiện trên màn hình là số 4\"\n",
        "#classification"
      ],
      "metadata": {
        "colab": {
          "base_uri": "https://localhost:8080/",
          "height": 292
        },
        "id": "_GpjjUhronXf",
        "outputId": "ad17e7b5-c322-48cf-d6b9-e51003a159e3"
      },
      "execution_count": 32,
      "outputs": [
        {
          "output_type": "execute_result",
          "data": {
            "text/plain": [
              "4"
            ]
          },
          "metadata": {},
          "execution_count": 32
        },
        {
          "output_type": "display_data",
          "data": {
            "text/plain": [
              "<Figure size 288x288 with 1 Axes>"
            ],
            "image/png": "[encoded data removed]"
          },
          "metadata": {
            "needs_background": "light"
          }
        }
      ]
    },
    {
      "cell_type": "code",
      "source": [
        "\"images 8x8 -> data 1x64 -> target\"\n",
        "# dữ liệu của phần tử thứ 16\n",
        "digits['data'][15] \n",
        "digits['target'][15]\n",
        "\"kết quả đầu ra là số 5\""
      ],
      "metadata": {
        "colab": {
          "base_uri": "https://localhost:8080/"
        },
        "id": "LxMNz1Nvonce",
        "outputId": "772dab08-6785-4830-f3af-dd9ec2749bed"
      },
      "execution_count": 34,
      "outputs": [
        {
          "output_type": "execute_result",
          "data": {
            "text/plain": [
              "5"
            ]
          },
          "metadata": {},
          "execution_count": 34
        }
      ]
    },
    {
      "cell_type": "code",
      "source": [
        "#gán dữ liệu cho biến X và y\n",
        "X = digits['data'] # dữ liệu đầu vào\n",
        "y = digits['target'] # dữ liệu đầu ra\n",
        "\n",
        "#hiện X và y\n",
        "print('dữ liệu của X:\\n',X)\n",
        "print('dữ liệu của Y:\\n',y)"
      ],
      "metadata": {
        "colab": {
          "base_uri": "https://localhost:8080/"
        },
        "id": "slMMjdSMpx5S",
        "outputId": "e01de6e9-a710-48b9-c6ed-327e2ccd0bba"
      },
      "execution_count": 36,
      "outputs": [
        {
          "output_type": "stream",
          "name": "stdout",
          "text": [
            "dữ liệu của X:\n",
            " [[ 0.  0.  5. ...  0.  0.  0.]\n",
            " [ 0.  0.  0. ... 10.  0.  0.]\n",
            " [ 0.  0.  0. ... 16.  9.  0.]\n",
            " ...\n",
            " [ 0.  0.  1. ...  6.  0.  0.]\n",
            " [ 0.  0.  2. ... 12.  0.  0.]\n",
            " [ 0.  0. 10. ... 12.  1.  0.]]\n",
            "dữ liệu của Y:\n",
            " [0 1 2 ... 8 9 8]\n"
          ]
        }
      ]
    },
    {
      "cell_type": "code",
      "source": [
        "# tách phần dữ liệu dùng để train và test\n",
        "X_train, X_test, y_train, y_test = train_test_split(X, y, test_size=0.2)  # dữ liệu test là 20% còn dữ liệu train là 80%"
      ],
      "metadata": {
        "id": "EHAvEg3nqMqR"
      },
      "execution_count": 37,
      "outputs": []
    },
    {
      "cell_type": "code",
      "source": [
        "#gọi thuật toán \n",
        "model = LogisticRegression()\n",
        "#train the model with \"training set\"\n",
        "model.fit(X_train, y_train)"
      ],
      "metadata": {
        "colab": {
          "base_uri": "https://localhost:8080/"
        },
        "id": "zyNM5xlCqi15",
        "outputId": "e86cc20b-2b3c-4aa1-8c09-54a0ab7be749"
      },
      "execution_count": 38,
      "outputs": [
        {
          "output_type": "stream",
          "name": "stderr",
          "text": [
            "/usr/local/lib/python3.7/dist-packages/sklearn/linear_model/_logistic.py:818: ConvergenceWarning: lbfgs failed to converge (status=1):\n",
            "STOP: TOTAL NO. of ITERATIONS REACHED LIMIT.\n",
            "\n",
            "Increase the number of iterations (max_iter) or scale the data as shown in:\n",
            "    https://scikit-learn.org/stable/modules/preprocessing.html\n",
            "Please also refer to the documentation for alternative solver options:\n",
            "    https://scikit-learn.org/stable/modules/linear_model.html#logistic-regression\n",
            "  extra_warning_msg=_LOGISTIC_SOLVER_CONVERGENCE_MSG,\n"
          ]
        },
        {
          "output_type": "execute_result",
          "data": {
            "text/plain": [
              "LogisticRegression()"
            ]
          },
          "metadata": {},
          "execution_count": 38
        }
      ]
    },
    {
      "cell_type": "code",
      "source": [
        "#kiểm tra mô hình thử độ chính xác là bao nhiêu\n",
        "model.score(X_test, y_test)"
      ],
      "metadata": {
        "colab": {
          "base_uri": "https://localhost:8080/"
        },
        "id": "tYeUzURuqrp4",
        "outputId": "95db47fd-6f38-4a29-a2d5-a58adc005461"
      },
      "execution_count": 39,
      "outputs": [
        {
          "output_type": "execute_result",
          "data": {
            "text/plain": [
              "0.9666666666666667"
            ]
          },
          "metadata": {},
          "execution_count": 39
        }
      ]
    },
    {
      "cell_type": "code",
      "source": [
        "#hiện dữ liệu X và y\n",
        "print('mảngX:\\n',X_test[2])\n",
        "print('kết quả target[2]:\\n',y_test[2]) # y_test là giá trị đúng ban đầu"
      ],
      "metadata": {
        "colab": {
          "base_uri": "https://localhost:8080/"
        },
        "id": "z20gd0clrEro",
        "outputId": "b7ce07ac-af3b-4f99-cd73-bb0c26a3bb14"
      },
      "execution_count": 45,
      "outputs": [
        {
          "output_type": "stream",
          "name": "stdout",
          "text": [
            "mảngX:\n",
            " [ 0.  0.  8. 12. 13.  1.  0.  0.  0.  5. 12.  2.  6. 13.  0.  0.  0. 11.\n",
            "  5.  0.  6. 12.  0.  0.  0.  7. 10.  4. 13. 15.  0.  0.  0.  1. 11. 12.\n",
            "  7. 12.  4.  0.  0.  0.  0.  0.  0.  4.  9.  0.  0.  0. 10.  5.  0.  3.\n",
            " 13.  0.  0.  0.  6. 12. 16. 13. 10.  0.]\n",
            "kết quả target[2]:\n",
            " 9\n"
          ]
        }
      ]
    },
    {
      "cell_type": "code",
      "source": [
        "#test dữ liệu\n",
        "model.predict([X_test[2]])\n",
        "\"kết quả array([9]) có nghĩa là đã train thành công\" "
      ],
      "metadata": {
        "colab": {
          "base_uri": "https://localhost:8080/"
        },
        "id": "5UnLbr2ernjp",
        "outputId": "11c66303-3f25-43d9-f11a-59a37c91bce8"
      },
      "execution_count": 46,
      "outputs": [
        {
          "output_type": "execute_result",
          "data": {
            "text/plain": [
              "array([9])"
            ]
          },
          "metadata": {},
          "execution_count": 46
        }
      ]
    },
    {
      "cell_type": "code",
      "source": [
        "#predict probability\n",
        "model.predict_proba([X_test[2]]) # xác suất để xảy ra số 9\n",
        "\n",
        "#  8.14587344e-09 xác suất xảy ra số 0\n",
        "#  2.76562764e-11 xác suất xảy ra số 1\n",
        "#  1.67968560e-09 xác suất xảy ra số 2\n",
        "#  2.22389146e-05 xác suất xảy ra số 3\n",
        "#  7.63454772e-12 xác suất xảy ra số 4\n",
        "#  6.70312102e-09 xác suất xảy ra số 5\n",
        "#  1.92455677e-10 xác suất xảy ra số 6\n",
        "#  1.43863337e-08 xác suất xảy ra số 7\n",
        "#  2.31465438e-06 xác suất xảy ra số 8\n",
        "#  9.99975415e-01 xác suất xảy ra số 9\n"
      ],
      "metadata": {
        "colab": {
          "base_uri": "https://localhost:8080/"
        },
        "id": "91z1sZqIsFPk",
        "outputId": "ecd31766-89e0-47cd-d4fe-f9e795fb3d49"
      },
      "execution_count": 49,
      "outputs": [
        {
          "output_type": "execute_result",
          "data": {
            "text/plain": [
              "array([[8.14587344e-09, 2.76562764e-11, 1.67968560e-09, 2.22389146e-05,\n",
              "        7.63454772e-12, 6.70312102e-09, 1.92455677e-10, 1.43863337e-08,\n",
              "        2.31465438e-06, 9.99975415e-01]])"
            ]
          },
          "metadata": {},
          "execution_count": 49
        }
      ]
    },
    {
      "cell_type": "code",
      "source": [
        "#đánh giá mô hình logicstic regression có tốt hay không\n",
        "\"confusion_matrix(y_test, model.predict(X_test)) \"\n",
        "'trong đó: y_test là giá trị đúng có trong bản dữ liệu ban đầu , model.predict(X_test) là giá trị dự đoán'\n",
        "confusion_matrix(y_test, model.predict(X_test))"
      ],
      "metadata": {
        "colab": {
          "base_uri": "https://localhost:8080/"
        },
        "id": "vmtRJN7gtUaj",
        "outputId": "6783a17b-55d3-4dd7-dca8-65d89b46e6c9"
      },
      "execution_count": 52,
      "outputs": [
        {
          "output_type": "execute_result",
          "data": {
            "text/plain": [
              "array([[40,  0,  0,  0,  0,  0,  0,  0,  0,  0],\n",
              "       [ 0, 32,  0,  0,  0,  0,  0,  0,  0,  0],\n",
              "       [ 0,  1, 33,  0,  0,  0,  0,  0,  0,  0],\n",
              "       [ 0,  0,  0, 41,  0,  0,  0,  1,  2,  0],\n",
              "       [ 0,  1,  0,  0, 34,  0,  0,  0,  0,  0],\n",
              "       [ 0,  0,  0,  0,  0, 34,  1,  0,  0,  0],\n",
              "       [ 0,  0,  0,  0,  0,  1, 31,  0,  0,  0],\n",
              "       [ 0,  0,  0,  0,  1,  0,  0, 32,  0,  0],\n",
              "       [ 0,  2,  0,  0,  0,  1,  0,  0, 34,  0],\n",
              "       [ 0,  0,  0,  0,  0,  0,  0,  0,  1, 37]])"
            ]
          },
          "metadata": {},
          "execution_count": 52
        }
      ]
    },
    {
      "cell_type": "code",
      "source": [
        "#để thấy rõ hơn sự tương quan của nó ta vẽ biểu đồ\n",
        "import seaborn\n",
        "plt.figure(figsize = (16,9), dpi=80)\n",
        "seaborn.heatmap(confusion_matrix(y_test, model.predict(X_test)), annot=True)\n",
        "plt.xlabel(\"Predicted\")\n",
        "plt.ylabel(\"True values\")"
      ],
      "metadata": {
        "colab": {
          "base_uri": "https://localhost:8080/",
          "height": 625
        },
        "id": "x9p3W9mVtgTB",
        "outputId": "570a209a-c3ba-4f7e-d611-25d5870a762b"
      },
      "execution_count": 51,
      "outputs": [
        {
          "output_type": "execute_result",
          "data": {
            "text/plain": [
              "Text(137.77777777777777, 0.5, 'True values')"
            ]
          },
          "metadata": {},
          "execution_count": 51
        },
        {
          "output_type": "display_data",
          "data": {
            "text/plain": [
              "<Figure size 1280x720 with 2 Axes>"
            ],
            "image/png": "[encoded data removed]"
          },
          "metadata": {
            "needs_background": "light"
          }
        }
      ]
    }
  ]
}